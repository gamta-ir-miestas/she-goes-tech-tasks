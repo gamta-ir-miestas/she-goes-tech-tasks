{
 "cells": [
  {
   "cell_type": "markdown",
   "id": "99be2257",
   "metadata": {},
   "source": [
    "# Task 1"
   ]
  },
  {
   "cell_type": "markdown",
   "id": "4642aa3b",
   "metadata": {},
   "source": [
    "1) Load a dataset using Pandas and perform data cleaning operations such as removing null values, removing duplicates,number format etc."
   ]
  },
  {
   "cell_type": "code",
   "execution_count": 1,
   "id": "f0514732",
   "metadata": {},
   "outputs": [],
   "source": [
    "import pandas as pd\n",
    "import matplotlib.pyplot as plt"
   ]
  },
  {
   "cell_type": "code",
   "execution_count": 2,
   "id": "4c7fe644",
   "metadata": {},
   "outputs": [],
   "source": [
    "spaceship = pd.read_csv(\"spaceship.csv\")"
   ]
  },
  {
   "cell_type": "code",
   "execution_count": 3,
   "id": "67d187f1",
   "metadata": {},
   "outputs": [
    {
     "data": {
      "text/html": [
       "<div>\n",
       "<style scoped>\n",
       "    .dataframe tbody tr th:only-of-type {\n",
       "        vertical-align: middle;\n",
       "    }\n",
       "\n",
       "    .dataframe tbody tr th {\n",
       "        vertical-align: top;\n",
       "    }\n",
       "\n",
       "    .dataframe thead th {\n",
       "        text-align: right;\n",
       "    }\n",
       "</style>\n",
       "<table border=\"1\" class=\"dataframe\">\n",
       "  <thead>\n",
       "    <tr style=\"text-align: right;\">\n",
       "      <th></th>\n",
       "      <th>PassengerId</th>\n",
       "      <th>HomePlanet</th>\n",
       "      <th>CryoSleep</th>\n",
       "      <th>Cabin</th>\n",
       "      <th>Destination</th>\n",
       "      <th>Age</th>\n",
       "      <th>VIP</th>\n",
       "      <th>RoomService</th>\n",
       "      <th>FoodCourt</th>\n",
       "      <th>ShoppingMall</th>\n",
       "      <th>Spa</th>\n",
       "      <th>VRDeck</th>\n",
       "      <th>Name</th>\n",
       "      <th>Transported</th>\n",
       "    </tr>\n",
       "  </thead>\n",
       "  <tbody>\n",
       "    <tr>\n",
       "      <th>0</th>\n",
       "      <td>0001_01</td>\n",
       "      <td>Europa</td>\n",
       "      <td>False</td>\n",
       "      <td>B/0/P</td>\n",
       "      <td>TRAPPIST-1e</td>\n",
       "      <td>39.0</td>\n",
       "      <td>False</td>\n",
       "      <td>0.0</td>\n",
       "      <td>0.0</td>\n",
       "      <td>0.0</td>\n",
       "      <td>0.0</td>\n",
       "      <td>0.0</td>\n",
       "      <td>Maham Ofracculy</td>\n",
       "      <td>False</td>\n",
       "    </tr>\n",
       "    <tr>\n",
       "      <th>1</th>\n",
       "      <td>0002_01</td>\n",
       "      <td>Earth</td>\n",
       "      <td>False</td>\n",
       "      <td>F/0/S</td>\n",
       "      <td>TRAPPIST-1e</td>\n",
       "      <td>24.0</td>\n",
       "      <td>False</td>\n",
       "      <td>109.0</td>\n",
       "      <td>9.0</td>\n",
       "      <td>25.0</td>\n",
       "      <td>549.0</td>\n",
       "      <td>44.0</td>\n",
       "      <td>Juanna Vines</td>\n",
       "      <td>True</td>\n",
       "    </tr>\n",
       "    <tr>\n",
       "      <th>2</th>\n",
       "      <td>0003_01</td>\n",
       "      <td>Europa</td>\n",
       "      <td>False</td>\n",
       "      <td>A/0/S</td>\n",
       "      <td>TRAPPIST-1e</td>\n",
       "      <td>58.0</td>\n",
       "      <td>True</td>\n",
       "      <td>43.0</td>\n",
       "      <td>3576.0</td>\n",
       "      <td>0.0</td>\n",
       "      <td>6715.0</td>\n",
       "      <td>49.0</td>\n",
       "      <td>Altark Susent</td>\n",
       "      <td>False</td>\n",
       "    </tr>\n",
       "    <tr>\n",
       "      <th>3</th>\n",
       "      <td>0003_02</td>\n",
       "      <td>Europa</td>\n",
       "      <td>False</td>\n",
       "      <td>A/0/S</td>\n",
       "      <td>TRAPPIST-1e</td>\n",
       "      <td>33.0</td>\n",
       "      <td>False</td>\n",
       "      <td>0.0</td>\n",
       "      <td>1283.0</td>\n",
       "      <td>371.0</td>\n",
       "      <td>3329.0</td>\n",
       "      <td>193.0</td>\n",
       "      <td>Solam Susent</td>\n",
       "      <td>False</td>\n",
       "    </tr>\n",
       "    <tr>\n",
       "      <th>4</th>\n",
       "      <td>0004_01</td>\n",
       "      <td>Earth</td>\n",
       "      <td>False</td>\n",
       "      <td>F/1/S</td>\n",
       "      <td>TRAPPIST-1e</td>\n",
       "      <td>16.0</td>\n",
       "      <td>False</td>\n",
       "      <td>303.0</td>\n",
       "      <td>70.0</td>\n",
       "      <td>151.0</td>\n",
       "      <td>565.0</td>\n",
       "      <td>2.0</td>\n",
       "      <td>Willy Santantines</td>\n",
       "      <td>True</td>\n",
       "    </tr>\n",
       "  </tbody>\n",
       "</table>\n",
       "</div>"
      ],
      "text/plain": [
       "  PassengerId HomePlanet CryoSleep  Cabin  Destination   Age    VIP  \\\n",
       "0     0001_01     Europa     False  B/0/P  TRAPPIST-1e  39.0  False   \n",
       "1     0002_01      Earth     False  F/0/S  TRAPPIST-1e  24.0  False   \n",
       "2     0003_01     Europa     False  A/0/S  TRAPPIST-1e  58.0   True   \n",
       "3     0003_02     Europa     False  A/0/S  TRAPPIST-1e  33.0  False   \n",
       "4     0004_01      Earth     False  F/1/S  TRAPPIST-1e  16.0  False   \n",
       "\n",
       "   RoomService  FoodCourt  ShoppingMall     Spa  VRDeck               Name  \\\n",
       "0          0.0        0.0           0.0     0.0     0.0    Maham Ofracculy   \n",
       "1        109.0        9.0          25.0   549.0    44.0       Juanna Vines   \n",
       "2         43.0     3576.0           0.0  6715.0    49.0      Altark Susent   \n",
       "3          0.0     1283.0         371.0  3329.0   193.0       Solam Susent   \n",
       "4        303.0       70.0         151.0   565.0     2.0  Willy Santantines   \n",
       "\n",
       "   Transported  \n",
       "0        False  \n",
       "1         True  \n",
       "2        False  \n",
       "3        False  \n",
       "4         True  "
      ]
     },
     "execution_count": 3,
     "metadata": {},
     "output_type": "execute_result"
    }
   ],
   "source": [
    "spaceship.head()"
   ]
  },
  {
   "cell_type": "code",
   "execution_count": 4,
   "id": "fd2d12b3",
   "metadata": {},
   "outputs": [
    {
     "data": {
      "text/plain": [
       "PassengerId       0\n",
       "HomePlanet      201\n",
       "CryoSleep       217\n",
       "Cabin           199\n",
       "Destination     182\n",
       "Age             179\n",
       "VIP             203\n",
       "RoomService     181\n",
       "FoodCourt       183\n",
       "ShoppingMall    208\n",
       "Spa             183\n",
       "VRDeck          188\n",
       "Name            200\n",
       "Transported       0\n",
       "dtype: int64"
      ]
     },
     "execution_count": 4,
     "metadata": {},
     "output_type": "execute_result"
    }
   ],
   "source": [
    "spaceship.isna().sum()"
   ]
  },
  {
   "cell_type": "code",
   "execution_count": 5,
   "id": "5cd37155",
   "metadata": {},
   "outputs": [
    {
     "data": {
      "text/html": [
       "<div>\n",
       "<style scoped>\n",
       "    .dataframe tbody tr th:only-of-type {\n",
       "        vertical-align: middle;\n",
       "    }\n",
       "\n",
       "    .dataframe tbody tr th {\n",
       "        vertical-align: top;\n",
       "    }\n",
       "\n",
       "    .dataframe thead th {\n",
       "        text-align: right;\n",
       "    }\n",
       "</style>\n",
       "<table border=\"1\" class=\"dataframe\">\n",
       "  <thead>\n",
       "    <tr style=\"text-align: right;\">\n",
       "      <th></th>\n",
       "      <th>Age</th>\n",
       "      <th>RoomService</th>\n",
       "      <th>FoodCourt</th>\n",
       "      <th>ShoppingMall</th>\n",
       "      <th>Spa</th>\n",
       "      <th>VRDeck</th>\n",
       "    </tr>\n",
       "  </thead>\n",
       "  <tbody>\n",
       "    <tr>\n",
       "      <th>count</th>\n",
       "      <td>8514.000000</td>\n",
       "      <td>8512.000000</td>\n",
       "      <td>8510.000000</td>\n",
       "      <td>8485.000000</td>\n",
       "      <td>8510.000000</td>\n",
       "      <td>8505.000000</td>\n",
       "    </tr>\n",
       "    <tr>\n",
       "      <th>mean</th>\n",
       "      <td>28.827930</td>\n",
       "      <td>224.687617</td>\n",
       "      <td>458.077203</td>\n",
       "      <td>173.729169</td>\n",
       "      <td>311.138778</td>\n",
       "      <td>304.854791</td>\n",
       "    </tr>\n",
       "    <tr>\n",
       "      <th>std</th>\n",
       "      <td>14.489021</td>\n",
       "      <td>666.717663</td>\n",
       "      <td>1611.489240</td>\n",
       "      <td>604.696458</td>\n",
       "      <td>1136.705535</td>\n",
       "      <td>1145.717189</td>\n",
       "    </tr>\n",
       "    <tr>\n",
       "      <th>min</th>\n",
       "      <td>0.000000</td>\n",
       "      <td>0.000000</td>\n",
       "      <td>0.000000</td>\n",
       "      <td>0.000000</td>\n",
       "      <td>0.000000</td>\n",
       "      <td>0.000000</td>\n",
       "    </tr>\n",
       "    <tr>\n",
       "      <th>25%</th>\n",
       "      <td>19.000000</td>\n",
       "      <td>0.000000</td>\n",
       "      <td>0.000000</td>\n",
       "      <td>0.000000</td>\n",
       "      <td>0.000000</td>\n",
       "      <td>0.000000</td>\n",
       "    </tr>\n",
       "    <tr>\n",
       "      <th>50%</th>\n",
       "      <td>27.000000</td>\n",
       "      <td>0.000000</td>\n",
       "      <td>0.000000</td>\n",
       "      <td>0.000000</td>\n",
       "      <td>0.000000</td>\n",
       "      <td>0.000000</td>\n",
       "    </tr>\n",
       "    <tr>\n",
       "      <th>75%</th>\n",
       "      <td>38.000000</td>\n",
       "      <td>47.000000</td>\n",
       "      <td>76.000000</td>\n",
       "      <td>27.000000</td>\n",
       "      <td>59.000000</td>\n",
       "      <td>46.000000</td>\n",
       "    </tr>\n",
       "    <tr>\n",
       "      <th>max</th>\n",
       "      <td>79.000000</td>\n",
       "      <td>14327.000000</td>\n",
       "      <td>29813.000000</td>\n",
       "      <td>23492.000000</td>\n",
       "      <td>22408.000000</td>\n",
       "      <td>24133.000000</td>\n",
       "    </tr>\n",
       "  </tbody>\n",
       "</table>\n",
       "</div>"
      ],
      "text/plain": [
       "               Age   RoomService     FoodCourt  ShoppingMall           Spa  \\\n",
       "count  8514.000000   8512.000000   8510.000000   8485.000000   8510.000000   \n",
       "mean     28.827930    224.687617    458.077203    173.729169    311.138778   \n",
       "std      14.489021    666.717663   1611.489240    604.696458   1136.705535   \n",
       "min       0.000000      0.000000      0.000000      0.000000      0.000000   \n",
       "25%      19.000000      0.000000      0.000000      0.000000      0.000000   \n",
       "50%      27.000000      0.000000      0.000000      0.000000      0.000000   \n",
       "75%      38.000000     47.000000     76.000000     27.000000     59.000000   \n",
       "max      79.000000  14327.000000  29813.000000  23492.000000  22408.000000   \n",
       "\n",
       "             VRDeck  \n",
       "count   8505.000000  \n",
       "mean     304.854791  \n",
       "std     1145.717189  \n",
       "min        0.000000  \n",
       "25%        0.000000  \n",
       "50%        0.000000  \n",
       "75%       46.000000  \n",
       "max    24133.000000  "
      ]
     },
     "execution_count": 5,
     "metadata": {},
     "output_type": "execute_result"
    }
   ],
   "source": [
    "spaceship.describe()"
   ]
  },
  {
   "cell_type": "code",
   "execution_count": 6,
   "id": "3733d651",
   "metadata": {},
   "outputs": [],
   "source": [
    "spaceship1 = spaceship.dropna()"
   ]
  },
  {
   "cell_type": "code",
   "execution_count": 7,
   "id": "9437e507",
   "metadata": {},
   "outputs": [],
   "source": [
    "spaceship2 = spaceship1.drop_duplicates()"
   ]
  },
  {
   "cell_type": "code",
   "execution_count": 8,
   "id": "01187e11",
   "metadata": {},
   "outputs": [
    {
     "name": "stdout",
     "output_type": "stream",
     "text": [
      "<class 'pandas.core.frame.DataFrame'>\n",
      "Int64Index: 6606 entries, 0 to 8692\n",
      "Data columns (total 14 columns):\n",
      " #   Column        Non-Null Count  Dtype  \n",
      "---  ------        --------------  -----  \n",
      " 0   PassengerId   6606 non-null   object \n",
      " 1   HomePlanet    6606 non-null   object \n",
      " 2   CryoSleep     6606 non-null   object \n",
      " 3   Cabin         6606 non-null   object \n",
      " 4   Destination   6606 non-null   object \n",
      " 5   Age           6606 non-null   float64\n",
      " 6   VIP           6606 non-null   object \n",
      " 7   RoomService   6606 non-null   float64\n",
      " 8   FoodCourt     6606 non-null   float64\n",
      " 9   ShoppingMall  6606 non-null   float64\n",
      " 10  Spa           6606 non-null   float64\n",
      " 11  VRDeck        6606 non-null   float64\n",
      " 12  Name          6606 non-null   object \n",
      " 13  Transported   6606 non-null   bool   \n",
      "dtypes: bool(1), float64(6), object(7)\n",
      "memory usage: 729.0+ KB\n"
     ]
    }
   ],
   "source": [
    "spaceship2.info()"
   ]
  },
  {
   "cell_type": "code",
   "execution_count": 11,
   "id": "66997f94",
   "metadata": {},
   "outputs": [],
   "source": [
    "spaceship3 = spaceship2.astype({'VIP': 'bool', 'CryoSleep' : 'bool'}, copy = True)"
   ]
  },
  {
   "cell_type": "code",
   "execution_count": 12,
   "id": "7d4924f7",
   "metadata": {},
   "outputs": [
    {
     "name": "stdout",
     "output_type": "stream",
     "text": [
      "<class 'pandas.core.frame.DataFrame'>\n",
      "Int64Index: 6606 entries, 0 to 8692\n",
      "Data columns (total 14 columns):\n",
      " #   Column        Non-Null Count  Dtype  \n",
      "---  ------        --------------  -----  \n",
      " 0   PassengerId   6606 non-null   object \n",
      " 1   HomePlanet    6606 non-null   object \n",
      " 2   CryoSleep     6606 non-null   bool   \n",
      " 3   Cabin         6606 non-null   object \n",
      " 4   Destination   6606 non-null   object \n",
      " 5   Age           6606 non-null   float64\n",
      " 6   VIP           6606 non-null   bool   \n",
      " 7   RoomService   6606 non-null   float64\n",
      " 8   FoodCourt     6606 non-null   float64\n",
      " 9   ShoppingMall  6606 non-null   float64\n",
      " 10  Spa           6606 non-null   float64\n",
      " 11  VRDeck        6606 non-null   float64\n",
      " 12  Name          6606 non-null   object \n",
      " 13  Transported   6606 non-null   bool   \n",
      "dtypes: bool(3), float64(6), object(5)\n",
      "memory usage: 638.7+ KB\n"
     ]
    }
   ],
   "source": [
    "spaceship3.info()"
   ]
  },
  {
   "cell_type": "markdown",
   "id": "7628d5b5",
   "metadata": {},
   "source": [
    "# Task 2"
   ]
  },
  {
   "cell_type": "markdown",
   "id": "ffd10887",
   "metadata": {},
   "source": [
    "2) Use Pandas to calculate summary statistics for a dataset, such as mean, median, and standard deviation."
   ]
  },
  {
   "cell_type": "code",
   "execution_count": 13,
   "id": "fde39a2e",
   "metadata": {},
   "outputs": [
    {
     "data": {
      "text/html": [
       "<div>\n",
       "<style scoped>\n",
       "    .dataframe tbody tr th:only-of-type {\n",
       "        vertical-align: middle;\n",
       "    }\n",
       "\n",
       "    .dataframe tbody tr th {\n",
       "        vertical-align: top;\n",
       "    }\n",
       "\n",
       "    .dataframe thead th {\n",
       "        text-align: right;\n",
       "    }\n",
       "</style>\n",
       "<table border=\"1\" class=\"dataframe\">\n",
       "  <thead>\n",
       "    <tr style=\"text-align: right;\">\n",
       "      <th></th>\n",
       "      <th>Age</th>\n",
       "      <th>RoomService</th>\n",
       "      <th>FoodCourt</th>\n",
       "      <th>ShoppingMall</th>\n",
       "      <th>Spa</th>\n",
       "      <th>VRDeck</th>\n",
       "    </tr>\n",
       "  </thead>\n",
       "  <tbody>\n",
       "    <tr>\n",
       "      <th>count</th>\n",
       "      <td>6606.000000</td>\n",
       "      <td>6606.000000</td>\n",
       "      <td>6606.000000</td>\n",
       "      <td>6606.000000</td>\n",
       "      <td>6606.000000</td>\n",
       "      <td>6606.000000</td>\n",
       "    </tr>\n",
       "    <tr>\n",
       "      <th>mean</th>\n",
       "      <td>28.894036</td>\n",
       "      <td>222.991674</td>\n",
       "      <td>478.958523</td>\n",
       "      <td>178.356494</td>\n",
       "      <td>313.161520</td>\n",
       "      <td>303.780048</td>\n",
       "    </tr>\n",
       "    <tr>\n",
       "      <th>std</th>\n",
       "      <td>14.533429</td>\n",
       "      <td>644.987936</td>\n",
       "      <td>1678.592291</td>\n",
       "      <td>576.328407</td>\n",
       "      <td>1144.016291</td>\n",
       "      <td>1127.142166</td>\n",
       "    </tr>\n",
       "    <tr>\n",
       "      <th>min</th>\n",
       "      <td>0.000000</td>\n",
       "      <td>0.000000</td>\n",
       "      <td>0.000000</td>\n",
       "      <td>0.000000</td>\n",
       "      <td>0.000000</td>\n",
       "      <td>0.000000</td>\n",
       "    </tr>\n",
       "    <tr>\n",
       "      <th>25%</th>\n",
       "      <td>19.000000</td>\n",
       "      <td>0.000000</td>\n",
       "      <td>0.000000</td>\n",
       "      <td>0.000000</td>\n",
       "      <td>0.000000</td>\n",
       "      <td>0.000000</td>\n",
       "    </tr>\n",
       "    <tr>\n",
       "      <th>50%</th>\n",
       "      <td>27.000000</td>\n",
       "      <td>0.000000</td>\n",
       "      <td>0.000000</td>\n",
       "      <td>0.000000</td>\n",
       "      <td>0.000000</td>\n",
       "      <td>0.000000</td>\n",
       "    </tr>\n",
       "    <tr>\n",
       "      <th>75%</th>\n",
       "      <td>38.000000</td>\n",
       "      <td>49.000000</td>\n",
       "      <td>82.750000</td>\n",
       "      <td>30.000000</td>\n",
       "      <td>65.000000</td>\n",
       "      <td>52.000000</td>\n",
       "    </tr>\n",
       "    <tr>\n",
       "      <th>max</th>\n",
       "      <td>79.000000</td>\n",
       "      <td>9920.000000</td>\n",
       "      <td>29813.000000</td>\n",
       "      <td>12253.000000</td>\n",
       "      <td>22408.000000</td>\n",
       "      <td>20336.000000</td>\n",
       "    </tr>\n",
       "  </tbody>\n",
       "</table>\n",
       "</div>"
      ],
      "text/plain": [
       "               Age  RoomService     FoodCourt  ShoppingMall           Spa  \\\n",
       "count  6606.000000  6606.000000   6606.000000   6606.000000   6606.000000   \n",
       "mean     28.894036   222.991674    478.958523    178.356494    313.161520   \n",
       "std      14.533429   644.987936   1678.592291    576.328407   1144.016291   \n",
       "min       0.000000     0.000000      0.000000      0.000000      0.000000   \n",
       "25%      19.000000     0.000000      0.000000      0.000000      0.000000   \n",
       "50%      27.000000     0.000000      0.000000      0.000000      0.000000   \n",
       "75%      38.000000    49.000000     82.750000     30.000000     65.000000   \n",
       "max      79.000000  9920.000000  29813.000000  12253.000000  22408.000000   \n",
       "\n",
       "             VRDeck  \n",
       "count   6606.000000  \n",
       "mean     303.780048  \n",
       "std     1127.142166  \n",
       "min        0.000000  \n",
       "25%        0.000000  \n",
       "50%        0.000000  \n",
       "75%       52.000000  \n",
       "max    20336.000000  "
      ]
     },
     "execution_count": 13,
     "metadata": {},
     "output_type": "execute_result"
    }
   ],
   "source": [
    "spaceship3.describe()"
   ]
  },
  {
   "cell_type": "code",
   "execution_count": 14,
   "id": "92fec488",
   "metadata": {},
   "outputs": [
    {
     "name": "stdout",
     "output_type": "stream",
     "text": [
      "28.894035725098394\n"
     ]
    }
   ],
   "source": [
    "print(spaceship3[\"Age\"].mean())"
   ]
  },
  {
   "cell_type": "code",
   "execution_count": 15,
   "id": "147086ae",
   "metadata": {},
   "outputs": [
    {
     "name": "stdout",
     "output_type": "stream",
     "text": [
      "0.0\n"
     ]
    }
   ],
   "source": [
    "print(spaceship3[\"RoomService\"].median())"
   ]
  },
  {
   "cell_type": "code",
   "execution_count": 16,
   "id": "6093211c",
   "metadata": {},
   "outputs": [
    {
     "name": "stdout",
     "output_type": "stream",
     "text": [
      "1678.5922905565842\n"
     ]
    }
   ],
   "source": [
    "print(spaceship3[\"FoodCourt\"].std())"
   ]
  },
  {
   "cell_type": "markdown",
   "id": "8e67d0bb",
   "metadata": {},
   "source": [
    "# Task 3"
   ]
  },
  {
   "cell_type": "markdown",
   "id": "b525c657",
   "metadata": {},
   "source": [
    "3) Create a scatter plot using Matplotlib to visualize the relationship between two variables in a dataset."
   ]
  },
  {
   "cell_type": "code",
   "execution_count": 22,
   "id": "d7691e2b",
   "metadata": {},
   "outputs": [
    {
     "data": {
      "image/png": "[encoded data removed]",
      "text/plain": [
       "<Figure size 432x288 with 1 Axes>"
      ]
     },
     "metadata": {
      "needs_background": "light"
     },
     "output_type": "display_data"
    }
   ],
   "source": [
    "spaceship3.plot.scatter(\"Age\", \"Spa\")\n",
    "plt.show()"
   ]
  },
  {
   "cell_type": "markdown",
   "id": "81cdd295",
   "metadata": {},
   "source": [
    "# Task 4"
   ]
  },
  {
   "cell_type": "markdown",
   "id": "68663569",
   "metadata": {},
   "source": [
    "4) Use Pandas to group the data by a categorical variable and calculate summary statistics for each group."
   ]
  },
  {
   "cell_type": "code",
   "execution_count": 24,
   "id": "f8516723",
   "metadata": {},
   "outputs": [
    {
     "name": "stdout",
     "output_type": "stream",
     "text": [
      "HomePlanet\n",
      "Earth     26.054683\n",
      "Europa    34.572026\n",
      "Mars      29.351865\n",
      "Name: Age, dtype: float64\n"
     ]
    }
   ],
   "source": [
    "spaceship_mean_age = spaceship3.groupby(\"HomePlanet\")[\"Age\"].mean()\n",
    "print(spaceship_mean_age)"
   ]
  },
  {
   "cell_type": "code",
   "execution_count": 26,
   "id": "d40d0d61",
   "metadata": {},
   "outputs": [
    {
     "name": "stdout",
     "output_type": "stream",
     "text": [
      "Cabin\n",
      "A/0/P         0.000000\n",
      "A/0/S      5022.000000\n",
      "A/1/S        95.333333\n",
      "A/10/P     1737.000000\n",
      "A/10/S      246.000000\n",
      "              ...     \n",
      "G/998/S       0.000000\n",
      "G/999/P       0.000000\n",
      "G/999/S       0.000000\n",
      "T/1/P      3133.000000\n",
      "T/3/P        26.000000\n",
      "Name: Spa, Length: 5305, dtype: float64\n"
     ]
    }
   ],
   "source": [
    "spaceship_mean_spa = spaceship3.groupby(\"Cabin\")[\"Spa\"].mean()\n",
    "print(spaceship_mean_spa)"
   ]
  },
  {
   "cell_type": "code",
   "execution_count": 28,
   "id": "f85d5c46",
   "metadata": {},
   "outputs": [
    {
     "name": "stdout",
     "output_type": "stream",
     "text": [
      "CryoSleep\n",
      "False    1373.301696\n",
      "True        0.000000\n",
      "Name: VRDeck, dtype: float64\n"
     ]
    }
   ],
   "source": [
    "spaceship_std_vrdeck = spaceship3.groupby(\"CryoSleep\")[\"VRDeck\"].std()\n",
    "print(spaceship_std_vrdeck)"
   ]
  },
  {
   "cell_type": "markdown",
   "id": "79c717a9",
   "metadata": {},
   "source": [
    "# Task 5"
   ]
  },
  {
   "cell_type": "markdown",
   "id": "8292f2bb",
   "metadata": {},
   "source": [
    "5) Create a line chart using Matplotlib to visualize the trend of a variable over time."
   ]
  },
  {
   "cell_type": "markdown",
   "id": "4e1a11ae",
   "metadata": {},
   "source": [
    "This dataset does not have any data based on time, therefore it can not be trended. I will create a line plot, but it will not make much sense"
   ]
  },
  {
   "cell_type": "code",
   "execution_count": 29,
   "id": "946dd168",
   "metadata": {},
   "outputs": [
    {
     "data": {
      "image/png": "[encoded data removed]",
      "text/plain": [
       "<Figure size 432x288 with 1 Axes>"
      ]
     },
     "metadata": {
      "needs_background": "light"
     },
     "output_type": "display_data"
    }
   ],
   "source": [
    "spaceship3.plot(\"Age\", \"VRDeck\")\n",
    "plt.show()"
   ]
  },
  {
   "cell_type": "markdown",
   "id": "d48f454f",
   "metadata": {},
   "source": [
    "# Task 6"
   ]
  },
  {
   "cell_type": "markdown",
   "id": "54a599e0",
   "metadata": {},
   "source": [
    "6) Use Pandas to merge two datasets together based on a common key (try this function - merge(table1, table2, on='Column1', how='inner')."
   ]
  },
  {
   "cell_type": "code",
   "execution_count": null,
   "id": "7ea1c077",
   "metadata": {},
   "outputs": [],
   "source": []
  }
 ],
 "metadata": {
  "kernelspec": {
   "display_name": "Python 3 (ipykernel)",
   "language": "python",
   "name": "python3"
  },
  "language_info": {
   "codemirror_mode": {
    "name": "ipython",
    "version": 3
   },
   "file_extension": ".py",
   "mimetype": "text/x-python",
   "name": "python",
   "nbconvert_exporter": "python",
   "pygments_lexer": "ipython3",
   "version": "3.10.6"
  }
 },
 "nbformat": 4,
 "nbformat_minor": 5
}
